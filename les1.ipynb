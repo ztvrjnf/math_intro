{
 "cells": [
  {
   "cell_type": "markdown",
   "metadata": {
    "colab_type": "text",
    "id": "view-in-github"
   },
   "source": [
    "<a href=\"https://colab.research.google.com/github/MoriMorou/GB_Python/blob/master/Homework_01.ipynb\" target=\"_parent\"><img src=\"https://colab.research.google.com/assets/colab-badge.svg\" alt=\"Open In Colab\"/></a>"
   ]
  },
  {
   "cell_type": "code",
   "execution_count": 2,
   "metadata": {
    "colab": {},
    "colab_type": "code",
    "id": "4ZK4soLP20-k"
   },
   "outputs": [],
   "source": [
    "import numpy as np\n",
    "import random\n",
    "import math\n",
    "import itertools\n",
    "from sympy import factorial"
   ]
  },
  {
   "cell_type": "markdown",
   "metadata": {
    "colab_type": "text",
    "id": "0vhnSPvp3Mt6"
   },
   "source": [
    "Прочитать высказывания математической логики, построить их отрицания и установить истинность\n",
    "\n",
    "\n",
    "\n",
    "\n",
    "1. Для любого y от 0 до 1, сигнум равен 1.\n",
    "$$\\forall y \\in [0; 1] : sgn(y)=1$$\n",
    "Отрицание:\n",
    "$$\\exists y\\in [0; 1] : sgn(y)\\not=1$$ \n",
    "\n",
    "2. Для любого натурального числа n, большего 2, существуют такие натуральные x, y и z, при которых x в степени n равен сумме y в степени n и z в степени n. \n",
    "\n",
    "$$\\forall n\\in \\mathbb{N}>2 :\\exists x, y, z\\in \\mathbb{N} : x^n = y^n + z^n$$  \n",
    "Отрицание:\n",
    "$$\\exists n\\in \\mathbb{N}>2 :\\forall x, y, z\\in \\mathbb{N} : x^n\\ne y^n + z^n$$  \n",
    "\n",
    "3. Для любого вещественного числа x существует вещественное число X, которое больше x. \n",
    "$$\\forall x\\in \\mathbb{R}\\exists X\\in \\mathbb{R} : X > x$$\n",
    "Отрицание: \n",
    "$$\\exists x\\in \\mathbb{R}\\forall X\\in \\mathbb{R} : X\\leq x$$\n",
    "\n",
    "\n",
    "4. Для любого комплексного x не существует комплексного y, при котором x больше y или x меньше y.\n",
    "$$\\forall x\\in \\mathbb{C}\\forall y\\in \\mathbb{C} : x > y || x < y$$\n",
    "Отрицание: \n",
    "$$\\exists x\\in \\mathbb{C}\\forall y\\in \\mathbb{C} : x\\leq y, \\ x\\geq y$$\n",
    "\n",
    "\n",
    "5. Для любого y от 0 до pi/2 существует epsilon больше 0, при котором sin(y) < sin(y + epsilon).  \n",
    "$$\\forall y\\in[0; \\frac\\pi2]\\exists \\varepsilon > 0 : sin(y)< sin(y + \\varepsilon)$$\n",
    "Отрицание: $$\\exists y\\in[0; \\frac\\pi2]\\forall \\varepsilon\\leq 0 : sin(y)\\geq sin(y + \\varepsilon)$$\n",
    "\n",
    "\n",
    "6. Для любого y от 0 до pi (не включая pi) существует epsilon больше 0, при котором cos(y) > cos(y + epsilon).  \n",
    "$$\\forall y\\in[0; \\pi)\\exists\\varepsilon > 0 : cos(y) > \\cos(y + \\varepsilon)$$\n",
    "Отрицание: $$\\exists y\\in[0; \\pi)\\forall\\varepsilon\\leq 0 : cos(y)\\leq \\cos(y + \\varepsilon)$$\n",
    "\n",
    "\n",
    "7. Существует x, не принадлежащий множествам натуральных, целых, рациональных, вещественных и комплексных чисел.  \n",
    "$$\\exists x : x\\notin \\{ \\mathbb {N, Z, Q, R, C } \\}$$\n",
    "Отрицание: $$\\forall x : x\\notin \\{ \\mathbb {N, Z, Q, R, C } \\}$$"
   ]
  },
  {
   "cell_type": "markdown",
   "metadata": {
    "colab_type": "text",
    "id": "NY3iwVvW20-u"
   },
   "source": [
    "Даны три множества a, b и с. Необходимо выполнить все изученные виды бинарных операций над всеми комбинациями множеств.\n",
    "\n",
    "Выполнить задание 1 на языке Python"
   ]
  },
  {
   "cell_type": "code",
   "execution_count": 28,
   "metadata": {
    "colab": {},
    "colab_type": "code",
    "id": "e5ZMS95P20-w"
   },
   "outputs": [
    {
     "name": "stdout",
     "output_type": "stream",
     "text": [
      "a: {72, 97, 8}\n",
      "b: {97, 15, 57, 60, 63}\n",
      "c: {3, 12, 77, 49, 55, 26, 62}\n"
     ]
    }
   ],
   "source": [
    "random.seed(1)\n",
    "a = set([random.randint(0, 99) for _ in range(random.randint(1, 10))])\n",
    "b = set([random.randint(0, 99) for _ in range(random.randint(1, 10))])\n",
    "c = set([random.randint(0, 99) for _ in range(random.randint(1, 10))])\n",
    "print(f'a: {a}')\n",
    "print(f'b: {b}')\n",
    "print(f'c: {c}')"
   ]
  },
  {
   "cell_type": "code",
   "execution_count": 26,
   "metadata": {
    "colab": {},
    "colab_type": "code",
    "id": "se8aX-uY20_B"
   },
   "outputs": [],
   "source": [
    "sets = {\n",
    "    'a': a,\n",
    "    'b': b,\n",
    "    'c': c\n",
    "}"
   ]
  },
  {
   "cell_type": "code",
   "execution_count": 27,
   "metadata": {
    "colab": {},
    "colab_type": "code",
    "id": "-_Lvv76d20_H",
    "outputId": "74d8498d-4b3c-4607-f348-d37b905eeff3"
   },
   "outputs": [
    {
     "name": "stdout",
     "output_type": "stream",
     "text": [
      "Множества: a, b\n",
      "x: {72, 97, 8},\n",
      "y: {97, 15, 57, 60, 63}\n",
      "Объединение a | b: {97, 72, 8, 15, 57, 60, 63}\n",
      "Пересечение a & b: {97}\n",
      "Разность a - b: {72, 8}\n",
      "Симметрическая разность a ^ b: {72, 57, 60, 63, 8, 15}\n",
      "Декартово произведение a * b: {(97, 60), (72, 57), (72, 63), (8, 97), (72, 15), (97, 97), (72, 97), (8, 60), (8, 57), (8, 63), (97, 15), (8, 15), (97, 57), (97, 63), (72, 60)}\n",
      "\n",
      "Множества: a, c\n",
      "x: {72, 97, 8},\n",
      "y: {3, 12, 77, 49, 55, 26, 62}\n",
      "Объединение a | c: {97, 3, 72, 8, 12, 77, 49, 55, 26, 62}\n",
      "Пересечение a & c: set()\n",
      "Разность a - c: {72, 97, 8}\n",
      "Симметрическая разность a ^ c: {3, 72, 8, 12, 77, 26, 97, 49, 55, 62}\n",
      "Декартово произведение a * c: {(72, 12), (8, 49), (8, 55), (97, 26), (8, 3), (8, 12), (97, 62), (97, 77), (72, 26), (97, 49), (72, 62), (97, 55), (8, 26), (97, 3), (72, 77), (97, 12), (8, 62), (72, 49), (72, 55), (8, 77), (72, 3)}\n",
      "\n",
      "Множества: b, c\n",
      "x: {97, 15, 57, 60, 63},\n",
      "y: {3, 12, 77, 49, 55, 26, 62}\n",
      "Объединение b | c: {97, 3, 12, 77, 15, 49, 55, 57, 26, 60, 62, 63}\n",
      "Пересечение b & c: set()\n",
      "Разность b - c: {97, 15, 57, 60, 63}\n",
      "Симметрическая разность b ^ c: {3, 12, 77, 15, 26, 97, 49, 55, 57, 60, 62, 63}\n",
      "Декартово произведение b * c: {(63, 77), (60, 62), (97, 26), (60, 77), (63, 49), (63, 55), (63, 3), (63, 12), (97, 62), (57, 26), (60, 49), (15, 26), (97, 77), (60, 3), (60, 55), (60, 12), (57, 62), (97, 49), (97, 55), (15, 62), (57, 77), (97, 3), (15, 77), (97, 12), (63, 26), (57, 49), (15, 49), (57, 55), (15, 55), (57, 3), (60, 26), (15, 3), (57, 12), (63, 62), (15, 12)}\n",
      "\n"
     ]
    }
   ],
   "source": [
    "for combination in itertools.combinations(sets.keys(), 2):\n",
    "    x, y = combination[0], combination[1]\n",
    "    print(f'Множества: {x}, {y}')\n",
    "    print(f'x: {sets[x]},\\ny: {sets[y]}')\n",
    "    print(f'Объединение {x} | {y}: {sets[x] | sets[y]}')\n",
    "    print(f'Пересечение {x} & {y}: {sets[x] & sets[y]}')\n",
    "    print(f'Разность {x} - {y}: {sets[x] - sets[y]}')\n",
    "    print(f'Симметрическая разность {x} ^ {y}: {sets[x] ^ sets[y]}')\n",
    "    cartesian = []\n",
    "    for item in itertools.product(sets[x], sets[y]):\n",
    "        cartesian.append(item)\n",
    "    print(f'Декартово произведение {x} * {y}: {set(cartesian)}')\n",
    "    print()"
   ]
  }
 ],
 "metadata": {
  "colab": {
   "collapsed_sections": [],
   "include_colab_link": true,
   "name": "lesson_01.ipynb",
   "provenance": [],
   "version": "0.3.2"
  },
  "kernelspec": {
   "display_name": "Python 3",
   "language": "python",
   "name": "python3"
  },
  "language_info": {
   "codemirror_mode": {
    "name": "ipython",
    "version": 3
   },
   "file_extension": ".py",
   "mimetype": "text/x-python",
   "name": "python",
   "nbconvert_exporter": "python",
   "pygments_lexer": "ipython3",
   "version": "3.8.5"
  }
 },
 "nbformat": 4,
 "nbformat_minor": 1
}
