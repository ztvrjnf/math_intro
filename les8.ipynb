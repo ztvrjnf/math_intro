{
 "cells": [
  {
   "cell_type": "markdown",
   "metadata": {},
   "source": [
    "## Производные функций нескольких переменных."
   ]
  },
  {
   "cell_type": "markdown",
   "metadata": {},
   "source": [
    "1.       Найти область определения функции.<br>\n",
    "$z=\\sqrt{1-x^3}+ln(y^2-1)$"
   ]
  },
  {
   "cell_type": "markdown",
   "metadata": {},
   "source": [
    "### $\\sqrt{1-x^3}\\ge0$\n",
    "### $1-x\\ge0$\n",
    "### $x^3\\ge1$\n",
    "### $x^\\ge1$"
   ]
  },
  {
   "cell_type": "markdown",
   "metadata": {},
   "source": [
    "### $y^2-1>0$\n",
    "### $y^2>1$\n",
    "### $y>1$"
   ]
  },
  {
   "cell_type": "markdown",
   "metadata": {},
   "source": [
    "### $x \\in [1;+\\infty), y \\in (1;+\\infty)$"
   ]
  },
  {
   "cell_type": "markdown",
   "metadata": {},
   "source": [
    "Найти производные 1-го порядка функции. <br>\n",
    "$z=(1+\\frac{lnx}{lny})^3=\\frac{(lny+lnx)^3}{ln^3y}$"
   ]
  },
  {
   "cell_type": "markdown",
   "metadata": {},
   "source": [
    "### $z'_x=(\\frac{(lny+lnx)^3}{ln^3y})'_x=\\frac{3(lnx+lny)^2}{xln^3y}$\n",
    "### $z'_y=(\\frac{(lny+lnx)^3}{ln^3y})'_y=-\\frac{3lnx(lnx+lny)^2}{yln^4y}$"
   ]
  },
  {
   "cell_type": "markdown",
   "metadata": {},
   "source": [
    "3.Найти полный дифференциал функции в точке (1;1).<br>\n",
    "$z=\\sqrt{2xy+cos(\\frac x{y})}$"
   ]
  },
  {
   "cell_type": "markdown",
   "metadata": {},
   "source": [
    "### $dz=(\\sqrt{2xy+cos(\\frac x{y})})\\frac{dz}{dx}+(\\sqrt{2xy+cos(\\frac x{y})})\\frac{dz}{dy}=\\frac{2y^2-sin(\\frac x{y})}{2y\\sqrt{2xy+cos(\\frac x{y})}}+\\frac{x(2y^2+sin(\\frac x{y}))}{2y^2\\sqrt{2xy+cos(\\frac x{y})}}=\\frac{y(2y^2-sin(\\frac x{y}))+x(2y^2+sin(\\frac x{y}))}{2y^2\\sqrt{2xy+cos(\\frac x{y})}}$\n",
    "### $dz(1;1)=\\frac{1(2\\cdot1^2-sin(\\frac 1{1}))+1(2\\cdot1^2+sin(\\frac 1{1}))}{2\\cdot1^2\\sqrt{2\\cdot1\\cdot1+cos(\\frac 1{1})}}=\\frac{2-sin(1)+2+sin(1)}{2\\sqrt{2+cos(1})}=\\frac4{2\\sqrt2}=\\sqrt2$"
   ]
  },
  {
   "cell_type": "markdown",
   "metadata": {},
   "source": [
    "4.Исследовать на экстремум функцию.<br>\n",
    "$z=x^2+xy+y^2-6x-9y$"
   ]
  },
  {
   "cell_type": "markdown",
   "metadata": {},
   "source": [
    "### $\\frac{dz}{dx}=2x+y-6$\n",
    "### $\\frac{dz}{dy}=x+2y-9$"
   ]
  },
  {
   "cell_type": "markdown",
   "metadata": {},
   "source": [
    "### $\\begin{cases}\n",
    "    2x+y-6=0\\\\\n",
    "    x+2y-9=0\n",
    "    \\end{cases}$\n",
    "### $x=1,\\ y=4$"
   ]
  },
  {
   "cell_type": "markdown",
   "metadata": {},
   "source": [
    "### $\\delta=\\begin{vmatrix}\n",
    "    2\\ 1\\\\\n",
    "    1\\ 2\\\\\n",
    "    \\end{vmatrix}=3\\ >0$ => Экстремум в точке существует."
   ]
  },
  {
   "cell_type": "markdown",
   "metadata": {},
   "source": [
    "### $z''_{xx}=2>0$ => в точке (1;4) функция имеет минимум."
   ]
  }
 ],
 "metadata": {
  "kernelspec": {
   "display_name": "Python 3",
   "language": "python",
   "name": "python3"
  },
  "language_info": {
   "codemirror_mode": {
    "name": "ipython",
    "version": 3
   },
   "file_extension": ".py",
   "mimetype": "text/x-python",
   "name": "python",
   "nbconvert_exporter": "python",
   "pygments_lexer": "ipython3",
   "version": "3.8.5"
  }
 },
 "nbformat": 4,
 "nbformat_minor": 4
}
