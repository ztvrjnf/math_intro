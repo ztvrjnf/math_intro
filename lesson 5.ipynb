{
 "cells": [
  {
   "cell_type": "code",
   "execution_count": 1,
   "metadata": {},
   "outputs": [],
   "source": [
    "import numpy as np\n",
    "import matplotlib.pyplot as plt\n",
    "\n",
    "%matplotlib inline"
   ]
  },
  {
   "cell_type": "markdown",
   "metadata": {},
   "source": [
    "4с. Найти предел:<br>\n",
    "$\\lim_{x \\to \\infty} (\\frac{x + 3}{x})^{4x+1}$<br>\n",
    "\n",
    "Второй змечательный предел:<br>\n",
    "$\\lim_{x \\to \\infty} (\\frac{x + 3}{x})^{4x+1}$ = $(\\frac{x + 3}{x})^{4x+1}$ = $(1 + \\frac{3}{x})^{4x+1}$ = $e^{12}$"
   ]
  },
  {
   "cell_type": "markdown",
   "metadata": {},
   "source": [
    "Теоремы о пределах.<br>\n",
    "Задача а<br>\n",
    "$\\lim_{x \\to 0} \\frac{sin(2x)}{4x}$<br>\n",
    "\n",
    "Первый замечательный предел:<br>\n",
    "$\\lim_{x \\to 0} \\frac{sin(2x)}{4x}$ = $\\frac{sin(2x)}{4x}$ = $\\frac{sin(2x)}{2*2x}$ = $\\frac{1}{2}$"
   ]
  },
  {
   "cell_type": "markdown",
   "metadata": {},
   "source": [
    "Задача b<br>\n",
    "$\\lim_{x \\to 0} \\frac{x}{sin(x)}$<br>\n",
    "\n",
    "Первый зfаечательный предел:<br>\n",
    "$\\lim_{x \\to 0} \\frac{x}{sin(x)}$ = $\\frac{x}{sin(x)}$ = $1$"
   ]
  },
  {
   "cell_type": "markdown",
   "metadata": {},
   "source": [
    "Задача с<br>\n",
    "$\\lim_{x \\to 0} \\frac{x}{arcsin(x)}$<br>\n",
    "\n",
    "Следствие из первого замечательного предела:<br>\n",
    "$\\lim_{x \\to 0} \\frac{x}{arcsin(x)}$ = $\\frac{x}{arcsin(x)}$ = 1"
   ]
  },
  {
   "cell_type": "markdown",
   "metadata": {},
   "source": [
    "Задача d<br>\n",
    "$\\lim_{x \\to \\infty} (\\frac{4x+3}{4x-3})^{6x}$<br>\n",
    "\n",
    "Второй змечательный предел:<br>\n",
    "$\\lim_{x \\to \\infty} (\\frac{4x+3}{4x-3})^{6x}$ = $(\\frac{4x+3}{4x-3})^{6x}$ = $(1 +\\frac{6}{4x-3})^{\\frac{4}{4}(6x)}$ = $(1 +\\frac{6}{4x-3})^{\\frac{6}{4}(4x-3)}$ = $e^{6\\frac{6}{4}}$ = $e^9$"
   ]
  },
  {
   "cell_type": "markdown",
   "metadata": {},
   "source": [
    "Задача е<br>\n",
    "$\\lim_{x \\to \\infty} \\frac{sin(x) + ln(x)}{x}$<br>\n",
    "\n",
    "$\\lim_{x \\to \\infty} \\frac{sin(x) + ln(x)}{x}$ = $\\frac{sin(x)}{x}$ + $\\frac{ln(x)}{x}$ = $0 + 0$"
   ]
  },
  {
   "cell_type": "markdown",
   "metadata": {},
   "source": [
    "Задача f<br>\n",
    "$\\lim_{x \\to 0} \\frac{sin(x) + ln(x)}{x}$<br>\n",
    "\n",
    "$\\lim_{x \\to 0} \\frac{sin(x) + ln(x)}{x}$ = $\\frac{sin(x) + ln(x)}{x}$ = $1 + ln(x)$ = $-\\infty$"
   ]
  },
  {
   "cell_type": "markdown",
   "metadata": {},
   "source": [
    "Понятие о производной"
   ]
  },
  {
   "cell_type": "markdown",
   "metadata": {},
   "source": [
    "Найти производную выражения <br>\n",
    "$sin(x) * cos(x)$ <br>\n",
    "$(sin(x) * cos(x))'$ = $(sin(x))'*cos(x) + (cos(x)')*sin(x)$ = $cos^2(x) - sin^2(x)$ = $cos(2x)$"
   ]
  },
  {
   "cell_type": "code",
   "execution_count": null,
   "metadata": {},
   "outputs": [],
   "source": [
    "Найти производную выражения <br>\n",
    "$ln(2x + 1)^3$ <br>\n"
   ]
  }
 ],
 "metadata": {
  "kernelspec": {
   "display_name": "Python 3",
   "language": "python",
   "name": "python3"
  },
  "language_info": {
   "codemirror_mode": {
    "name": "ipython",
    "version": 3
   },
   "file_extension": ".py",
   "mimetype": "text/x-python",
   "name": "python",
   "nbconvert_exporter": "python",
   "pygments_lexer": "ipython3",
   "version": "3.8.5"
  }
 },
 "nbformat": 4,
 "nbformat_minor": 2
}
