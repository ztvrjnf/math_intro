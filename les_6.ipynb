{
 "cells": [
  {
   "cell_type": "markdown",
   "metadata": {},
   "source": [
    "### Дифференциальное исчисление"
   ]
  },
  {
   "cell_type": "markdown",
   "metadata": {},
   "source": [
    "1c. Найти производную выражения:\n",
    "$\\sqrt{sin^2(ln(x^3))}$"
   ]
  },
  {
   "cell_type": "markdown",
   "metadata": {},
   "source": [
    "$(\\sqrt{sin^2(ln(x^3))})'$ = $\\frac{1}{2\\sqrt{sin^2(ln(x^3))}}(sin^2(ln(x^3)))'$ = $\\frac{1}{2\\sqrt{sin^2(ln(x^3))}}2sin(ln(x^3))(sin(ln(x^3)))'$ = $\\frac{1}{2\\sqrt{sin^2(ln(x^3))}}2sin(ln(x^3))cos(ln(x^3))(ln(x^3))'$ = $\\frac{1}{2\\sqrt{sin^2(ln(x^3))}}2sin(ln(x^3))cos(ln(x^3))\\frac{1}{x^3}(x^3)'$ = $\\frac{sin(ln(x^3))}{\\sqrt{sin^2(ln(x^3))}}cos(ln(x^3))\\frac{3x^2}{x^3}$ = $\\frac{sin(ln(x^3))}{\\sqrt{sin^2(ln(x^3))}}cos(ln(x^3))\\frac{3}{x}$"
   ]
  },
  {
   "cell_type": "markdown",
   "metadata": {},
   "source": [
    "2. Найти выражение производной функции и ее значение в точке:\n",
    "$f(x) = cos(x^2 + 3x)$, $x0 = \\sqrt{\\pi}$"
   ]
  },
  {
   "cell_type": "markdown",
   "metadata": {},
   "source": [
    "$f'(x) = -sin(x^2 + 3x)(x^2 + 3x)'$ = $-sin(x^2 + 3x)(2x + 3)$<br>\n",
    "$f'(\\sqrt{\\pi}) = -sin((\\sqrt{\\pi})^2 + 3\\sqrt{\\pi})(2\\sqrt{\\pi} + 3)$ = $-sin(\\pi + 3\\sqrt{\\pi})(2\\sqrt{\\pi} + 3)$"
   ]
  },
  {
   "cell_type": "markdown",
   "metadata": {},
   "source": [
    "3. Найти значение производной функции в точке:\n",
    "$f(x) = \\frac{x^3 - x^2 - x - 1}{1 + 2x + 3x^2 - 4x^3}$, $x0 = 0$"
   ]
  },
  {
   "cell_type": "markdown",
   "metadata": {},
   "source": [
    "$g(x) = x^3 - x^2 - x - 1$<br>\n",
    "$h(x) = 1 + 2x + 3x^2 - 4x^3$<br>\n",
    "$f'(x) = \\frac{g'(x)h(x) - g(x)h'(x)}{h^2(x)}$<br>\n",
    "$g'(x) = 3x^2 - 2x - 1$<br>\n",
    "$h'(x) = 2 + 6x - 12x^2$<br>\n",
    "$g(0) = -1$, $h(0) = 1$<br>\n",
    "$g'(0) = -1$, $h'(0) = 2$<br>\n",
    "$f'(0) = \\frac{-1 * 1 - (-1) * 2}{1 ^ 2}$ = $\\frac{-1 - (-2)}{1}$ = $\\frac{1}{1}$ = $1$"
   ]
  },
  {
   "cell_type": "markdown",
   "metadata": {},
   "source": [
    "#### 7. Найти угол наклона касательной к графику функции в точке:\n",
    "\n",
    "$f(x) = \\sqrt{3x}ln(x)$, $x01 = 1$"
   ]
  },
  {
   "cell_type": "markdown",
   "metadata": {},
   "source": [
    "$f'(x) = (\\sqrt{3x}ln(x))'$ = $(\\sqrt{3x})'ln(x) + \\sqrt{3x}(ln(x))'$ = $\\frac{3}{2\\sqrt{3x}}ln(x) + \\sqrt{3x}\\frac{1}{x}$<br>\n",
    "$f'(1) = \\frac{2}{2\\sqrt{3}}ln(1) + \\sqrt{3}\\frac{1}{1}$ = $\\sqrt{3}$<br>\n",
    "$tg(a) = \\sqrt{3}$<br>\n",
    "$a = arctg(a)$ = $\\frac{\\pi}{3}$ = $60^{\\circ}$"
   ]
  }
 ],
 "metadata": {
  "kernelspec": {
   "display_name": "Python 3",
   "language": "python",
   "name": "python3"
  },
  "language_info": {
   "codemirror_mode": {
    "name": "ipython",
    "version": 3
   },
   "file_extension": ".py",
   "mimetype": "text/x-python",
   "name": "python",
   "nbconvert_exporter": "python",
   "pygments_lexer": "ipython3",
   "version": "3.8.5"
  }
 },
 "nbformat": 4,
 "nbformat_minor": 2
}
