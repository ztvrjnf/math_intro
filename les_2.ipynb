{
 "cells": [
  {
   "cell_type": "code",
   "execution_count": 1,
   "metadata": {},
   "outputs": [],
   "source": [
    "import math"
   ]
  },
  {
   "cell_type": "markdown",
   "metadata": {
    "colab_type": "text",
    "id": "view-in-github"
   },
   "source": [
    "<a href=\"https://colab.research.google.com/github/MoriMorou/GB_Python/blob/master/Homework_01.ipynb\" target=\"_parent\"><img src=\"https://colab.research.google.com/assets/colab-badge.svg\" alt=\"Open In Colab\"/></a>"
   ]
  },
  {
   "cell_type": "markdown",
   "metadata": {
    "colab_type": "text",
    "id": "5QS5T4W8_Ep6"
   },
   "source": [
    "Как относятся друг к другу множество и последовательность? (в ответе использовать слова типа: часть, целое, общее, частное, родитель, дочерний субъект и т.д.)\n",
    "\n",
    "Так как последовательности состоят из элементов заданных множеств, то последовательность относится к множеству как дочерний субъект к родителю"
   ]
  },
  {
   "cell_type": "markdown",
   "metadata": {
    "colab_type": "text",
    "id": "Y17NrV_320_P"
   },
   "source": [
    "Даны 4 последовательности. Необходимо:\n",
    "      \n",
    "      \n",
    "a.  исследовать их на монотонность;\n",
    "\n",
    "b.  исследовать на ограниченность;\n",
    "\n",
    "c.  найти пятый по счету член."
   ]
  },
  {
   "cell_type": "code",
   "execution_count": 2,
   "metadata": {
    "colab": {},
    "colab_type": "code",
    "id": "XPXsk-jZ20_R"
   },
   "outputs": [],
   "source": [
    "def monotony(sequence):\n",
    "    for i in range(1, len(sequence)):\n",
    "        if sequence[i] > sequence[i-1]:\n",
    "            return 'Последовательность монотонно возрастает'\n",
    "        elif sequence[i] < sequence[i-1]:\n",
    "            return 'Последовательность монотонно убывает'\n",
    "        else:\n",
    "            return 'Последовательность не меняется'"
   ]
  },
  {
   "cell_type": "code",
   "execution_count": 3,
   "metadata": {
    "colab": {},
    "colab_type": "code",
    "id": "tdB8Cpdr20_V",
    "outputId": "abb355de-ad28-432b-b283-3c5f068d9e2d"
   },
   "outputs": [
    {
     "name": "stdout",
     "output_type": "stream",
     "text": [
      "Последовательность монотонно возрастает\n",
      "Перывые 10 элементов последовательности 2 ^ n - n: \n",
      "[1, 2, 5, 12, 27, 58, 121, 248, 503, 1014]\n",
      "Пятый по счету член последовательности 2 ^ n - n: 27\n"
     ]
    }
   ],
   "source": [
    "# a: 2 ** n - n\n",
    "# n = 1, +oo\n",
    "\n",
    "def f1(n):\n",
    "    return 2 ** n - n\n",
    "\n",
    "ns = list(range(1, 11, 1))\n",
    "elements = list(map(f1, ns))\n",
    "\n",
    "print(monotony(elements))\n",
    "print(f'Перывые 10 элементов последовательности 2 ^ n - n: \\n{elements}')\n",
    "print(f'Пятый по счету член последовательности 2 ^ n - n: {f1(ns[4])}')"
   ]
  },
  {
   "cell_type": "code",
   "execution_count": 4,
   "metadata": {
    "colab": {},
    "colab_type": "code",
    "id": "IdrxK9lX20_Y",
    "outputId": "5882a785-552b-45b3-c645-b4407dfd5951"
   },
   "outputs": [
    {
     "name": "stdout",
     "output_type": "stream",
     "text": [
      "Последовательность монотонно убывает\n",
      "Перывые 10 элементов последовательности 1 / (n - 1): \n",
      "[1.0, 0.5, 0.3333333333333333, 0.25, 0.2, 0.16666666666666666, 0.14285714285714285, 0.125, 0.1111111111111111, 0.1]\n",
      "Пятый по счету член последовательности 1 / (n - 1): 0.2\n"
     ]
    }
   ],
   "source": [
    "# b: 1 / (n - 1)\n",
    "# n = 2, +oo\n",
    "\n",
    "# последовательность ограничена сверху числом 1\n",
    "\n",
    "def f2(n):\n",
    "    return 1 / (n - 1)\n",
    "\n",
    "ns = list(range(2, 12, 1))\n",
    "elements = list(map(f2, ns))\n",
    "\n",
    "print(monotony(elements))\n",
    "print(f'Перывые 10 элементов последовательности 1 / (n - 1): \\n{elements}')\n",
    "print(f'Пятый по счету член последовательности 1 / (n - 1): {f2(ns[4])}')"
   ]
  },
  {
   "cell_type": "code",
   "execution_count": 5,
   "metadata": {
    "colab": {},
    "colab_type": "code",
    "id": "YD19jgFP20_b",
    "outputId": "a739962c-69ab-47a0-a012-7cfb46bc04a6"
   },
   "outputs": [
    {
     "name": "stdout",
     "output_type": "stream",
     "text": [
      "Последовательность монотонно возрастает\n",
      "Перывые 10 элементов последовательности -1 ^ n + sqrt(2 * n): \n",
      "[0.41421356237309515, 1.0, 1.4494897427831779, 1.8284271247461903, 2.1622776601683795, 2.4641016151377544, 2.7416573867739413, 3.0, 3.2426406871192848, 3.4721359549995796]\n",
      "Пятый по счету член последовательности -1 ^ n + sqrt(2 * n): 2.1622776601683795\n"
     ]
    }
   ],
   "source": [
    "# b: -1 ** n + sqrt(2 * n)\n",
    "# n = 1, +oo\n",
    "\n",
    "# последовательность ограничена снизу числом -1\n",
    "\n",
    "def f3(n):\n",
    "    return -1 ** n + math.sqrt(2 * n)\n",
    "\n",
    "ns = list(range(1, 11, 1))\n",
    "elements = list(map(f3, ns))\n",
    "\n",
    "print(monotony(elements))\n",
    "print(f'Перывые 10 элементов последовательности -1 ^ n + sqrt(2 * n): \\n{elements}')\n",
    "print(f'Пятый по счету член последовательности -1 ^ n + sqrt(2 * n): {f3(ns[4])}')"
   ]
  },
  {
   "cell_type": "code",
   "execution_count": 6,
   "metadata": {
    "colab": {},
    "colab_type": "code",
    "id": "vVjiuEI620_f",
    "outputId": "a31c15d6-4c77-4f96-9679-2e58c475e732"
   },
   "outputs": [
    {
     "name": "stdout",
     "output_type": "stream",
     "text": [
      "Последовательность монотонно убывает\n",
      "Перывые 10 элементов последовательности (-1) ^ (2 * n) + 1 / (n ^ 2): \n",
      "[2.0, 1.25, 1.1111111111111112, 1.0625, 1.04, 1.0277777777777777, 1.0204081632653061, 1.015625, 1.0123456790123457, 1.01]\n",
      "Пятый по счету член последовательности (-1) ^ (2 * n) + 1 / (n ^ 2): 1.04\n"
     ]
    }
   ],
   "source": [
    "# b: (-1) ** (2 * n) + 1 / (n ** 2)\n",
    "# n = 1, +oo\n",
    "# последовательность ограничена сверху числом 2\n",
    "\n",
    "def f4(n):\n",
    "    return (-1) ** (2 * n) + 1 / (n ** 2)\n",
    "\n",
    "ns = list(range(1, 11, 1))\n",
    "elements = list(map(f4, ns))\n",
    "\n",
    "print(monotony(elements))\n",
    "print(f'Перывые 10 элементов последовательности (-1) ^ (2 * n) + 1 / (n ^ 2): \\n{elements}')\n",
    "print(f'Пятый по счету член последовательности (-1) ^ (2 * n) + 1 / (n ^ 2): {f4(ns[4])}')"
   ]
  },
  {
   "cell_type": "code",
   "execution_count": 7,
   "metadata": {
    "colab": {},
    "colab_type": "code",
    "id": "WCErwgCL20_j",
    "outputId": "73e7a8b0-87d5-45e9-f8f8-589ffe3d135f"
   },
   "outputs": [
    {
     "name": "stdout",
     "output_type": "stream",
     "text": [
      "a12: 194\n"
     ]
    }
   ],
   "source": [
    "# a1 = 128, a(n+1) - a(n) = 6, найти 12-й член заданной неявно последовательности\n",
    "\n",
    "a1 = 128\n",
    "d = 6\n",
    "\n",
    "# a(n) = a1 + (n - 1) * d\n",
    "\n",
    "a12 = a1 + (12 - 1) * d\n",
    "\n",
    "print(f'a12: {a12}')"
   ]
  },
  {
   "cell_type": "code",
   "execution_count": 8,
   "metadata": {
    "colab": {},
    "colab_type": "code",
    "id": "HopBLHtI20_m",
    "outputId": "c83932ea-9dd7-4e2a-e34b-2a3a83e7433e",
    "scrolled": true
   },
   "outputs": [
    {
     "name": "stdout",
     "output_type": "stream",
     "text": [
      "a12: 194\n"
     ]
    }
   ],
   "source": [
    "a1 = 128\n",
    "d = 6\n",
    "\n",
    "a12 = a1\n",
    "for _ in range(11):\n",
    "    a12 += d\n",
    "    \n",
    "print(f'a12: {a12}')"
   ]
  }
 ],
 "metadata": {
  "colab": {
   "collapsed_sections": [],
   "include_colab_link": true,
   "name": "lesson_01.ipynb",
   "provenance": [],
   "version": "0.3.2"
  },
  "kernelspec": {
   "display_name": "Python 3",
   "language": "python",
   "name": "python3"
  },
  "language_info": {
   "codemirror_mode": {
    "name": "ipython",
    "version": 3
   },
   "file_extension": ".py",
   "mimetype": "text/x-python",
   "name": "python",
   "nbconvert_exporter": "python",
   "pygments_lexer": "ipython3",
   "version": "3.8.5"
  }
 },
 "nbformat": 4,
 "nbformat_minor": 1
}
