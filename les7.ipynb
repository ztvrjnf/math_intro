{
 "cells": [
  {
   "cell_type": "markdown",
   "metadata": {},
   "source": [
    "## Производная функции одной переменной. Часть 2"
   ]
  },
  {
   "cell_type": "markdown",
   "metadata": {},
   "source": [
    "### 1. Найти длину x и ширину y прямоугольника при заданном периметре P=144 cм, при которых данный прямоугольник имеет наибольшую площадь S."
   ]
  },
  {
   "cell_type": "markdown",
   "metadata": {},
   "source": [
    "### $S=x\\cdot y$\n",
    "### $P=2(x+y)$\n",
    "### $2(x+y)=144$\n",
    "### $x+y=72 \\ => \\ y=72-x$\n",
    "### $S=x\\cdot (72-x)=72x-x^2$\n",
    "### $S'=72-2x=0$\n",
    "### $x=36$\n",
    "### $S'(35)=72-2\\cdot35=2$\n",
    "### $S'(37)=72-2\\cdot37=-2$\n",
    "### Следовательно, при x=36 S достигает максимума. Тогда $y=72-36=36$\n",
    "### $S=36^2=1296$"
   ]
  },
  {
   "cell_type": "markdown",
   "metadata": {},
   "source": [
    "### 2. найти экстремумы функций (если они есть)"
   ]
  },
  {
   "cell_type": "markdown",
   "metadata": {},
   "source": [
    "### $y=|2x|$\n",
    "### $y'=2\\cdot \\frac x{|x|}=0$\n",
    "### $x=0$\n",
    "### $f'(-1)=2\\cdot \\frac {-1}{|-1|}=-2\\ <0$\n",
    "### $f'(1)=2\\cdot \\frac {1}{|1|}=2\\ >0$\n",
    "### Функция имеет минимум при x=0"
   ]
  },
  {
   "cell_type": "markdown",
   "metadata": {},
   "source": [
    "### $y=x^3$\n",
    "### $y'=3x^2=0$\n",
    "### $x=0$\n",
    "### $f'(-1)=3$\n",
    "### $f'(1)=3$\n",
    "### Функция монотонно возрастает"
   ]
  },
  {
   "cell_type": "markdown",
   "metadata": {},
   "source": [
    "### $y=e^{3x}$\n",
    "### $y'=3e^{3x}=0$ - не существует\n",
    "### $f'(-1)=3e^{-3}=\\frac 3{e^3}$\n",
    "### $f'(1)=3e^{3}$\n",
    "### Функция монотонно возрастает"
   ]
  },
  {
   "cell_type": "markdown",
   "metadata": {},
   "source": [
    "### $y=x^3-5x$\n",
    "### $y'=3x^2-5=0$\n",
    "### $x=\\pm \\sqrt{\\frac 5{3}}$\n",
    "### $f'(-2)=7$\n",
    "### $f'(-1)=-2$\n",
    "### $f'(1)=-2$\n",
    "### $f'(2)=7$\n",
    "### Функция имеет 2 экстремума: максимум при $x=-\\sqrt{\\frac 5{3}}$ и минимум при $x=\\sqrt{\\frac 5{3}}$"
   ]
  }
 ],
 "metadata": {
  "kernelspec": {
   "display_name": "Python 3",
   "language": "python",
   "name": "python3"
  },
  "language_info": {
   "codemirror_mode": {
    "name": "ipython",
    "version": 3
   },
   "file_extension": ".py",
   "mimetype": "text/x-python",
   "name": "python",
   "nbconvert_exporter": "python",
   "pygments_lexer": "ipython3",
   "version": "3.8.5"
  }
 },
 "nbformat": 4,
 "nbformat_minor": 4
}
