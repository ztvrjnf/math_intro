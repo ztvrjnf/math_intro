{
 "cells": [
  {
   "cell_type": "code",
   "execution_count": 1,
   "metadata": {},
   "outputs": [],
   "source": [
    "import numpy as np\n",
    "import matplotlib.pyplot as plt\n",
    "\n",
    "%matplotlib inline"
   ]
  },
  {
   "cell_type": "markdown",
   "metadata": {},
   "source": [
    "## 1. Предложить пример функции,  не имеющей предела в нуле и в бесконечностях.\n",
    "f(x) = sin(1/x), x > 1<br>\n",
    "f(x) = sin(x), x <= 1"
   ]
  },
  {
   "cell_type": "markdown",
   "metadata": {},
   "source": [
    "### 2. Привести пример функции, не имеющей предела в точке, но определенной в ней."
   ]
  },
  {
   "cell_type": "markdown",
   "metadata": {},
   "source": [
    "f(x) = 0, x < 0 <br>\n",
    "f(x) = 1, x => 0"
   ]
  },
  {
   "cell_type": "markdown",
   "metadata": {},
   "source": [
    "### 3. Исследовать функцию $f(x) = x^3 - x^2$ по плану:\n",
    "1. Область задания и область значений\n",
    "2. Нули функции и их кратность\n",
    "3. Отрезки знакопостоянства\n",
    "4. Интервалы монотонности\n",
    "5. Четность функции\n",
    "6. Ограниченность\n",
    "7. Периодичность"
   ]
  },
  {
   "cell_type": "code",
   "execution_count": 10,
   "metadata": {},
   "outputs": [
    {
     "data": {
      "text/plain": [
       "[<matplotlib.lines.Line2D at 0x232568ceb80>]"
      ]
     },
     "execution_count": 10,
     "metadata": {},
     "output_type": "execute_result"
    },
    {
     "data": {
      "image/png": "[encoded data removed]",
      "text/plain": [
       "<Figure size 432x288 with 1 Axes>"
      ]
     },
     "metadata": {
      "needs_background": "light"
     },
     "output_type": "display_data"
    }
   ],
   "source": [
    "# постороим функцию\n",
    "\n",
    "def f(x):\n",
    "    return np.power(x, 3) - np.power(x, 2)\n",
    "\n",
    "x = np.linspace(-1000, 1000, 200)\n",
    "y = np.array(list(map(f, x)))\n",
    "\n",
    "plt.plot(x, y)"
   ]
  },
  {
   "cell_type": "code",
   "execution_count": 11,
   "metadata": {},
   "outputs": [
    {
     "data": {
      "text/plain": [
       "[<matplotlib.lines.Line2D at 0x2325693c0a0>]"
      ]
     },
     "execution_count": 11,
     "metadata": {},
     "output_type": "execute_result"
    },
    {
     "data": {
      "image/png": "[encoded data removed]",
      "text/plain": [
       "<Figure size 432x288 with 1 Axes>"
      ]
     },
     "metadata": {
      "needs_background": "light"
     },
     "output_type": "display_data"
    }
   ],
   "source": [
    "x = np.linspace(0, 1, 100)\n",
    "y = np.array(list(map(f, x)))\n",
    "\n",
    "plt.plot(x, y)"
   ]
  },
  {
   "cell_type": "markdown",
   "metadata": {},
   "source": [
    "Область задания и область значений:<br>\n",
    "dom(f(x)) = R<br>\n",
    "ran(f(x)) = R<br>\n",
    "<br>\n",
    "Нули функции и их кратность:<br>\n",
    "$f(x) = x^3 - x^2$<br>\n",
    "$x^3 - x^2 = 0$<br>\n",
    "$x(x^2 - x) = 0$<br>\n",
    "$x1 = 0, x^2 - x = 0$<br>\n",
    "$x1 = 0, x(x - 1) = 0$<br>\n",
    "$x1 = 0, x2 = 0, x3 = 1$<br>\n",
    "Один из корней ур-ия кратен 2<br>\n",
    "<br>\n",
    "Отрезки знакопостоянства:<br>\n",
    "$f(x) <= 0, x <= 1$<br>\n",
    "$f(x) > 0, x > 1$<br>\n",
    "<br>\n",
    "Интервалы монотонности:<br>\n",
    "$f'(x) = 3x^2 - 2x$<br>\n",
    "$3x^2 - 2x = 0$<br>\n",
    "$x(3x - 2) = 0$<br>\n",
    "$x1 = 0, x2 = \\frac{2}{3}$<br>\n",
    "$f(x)$ возрастает, $x \\in (-\\infty, 0)$<br>\n",
    "$f(x)$ убывает, $x \\in (0, 2/3)$<br>\n",
    "$f(x)$ возрастает, $x \\in (2/3, +\\infty)$<br>\n",
    "<br>\n",
    "Четность функции:<br>\n",
    "$f(x) \\neq f(-x)$<br>\n",
    "$f(-x) \\neq -f(x)$<br>\n",
    "$f(x) = x^3 - x^2$ - функция общего вида<br>\n",
    "<br>\n",
    "Ограниченность:<br>\n",
    "$f(x) = x^3 - x^2$ - ran(f(x)) = R, функция неограничена<br>\n",
    "<br>\n",
    "Периодичность:<br>\n",
    "$f(x + T) \\neq f(x)$<br>\n",
    "$f(x) = x^3 - x^2$ - функция непереодична"
   ]
  },
  {
   "cell_type": "markdown",
   "metadata": {},
   "source": [
    "### 4. Найти предел:\n",
    "$\\lim_{x \\to 0} \\frac{3x^3 - 2x^2}{4x^2}$ = $\\frac{3x^3 - 2x^2}{4x^2}$ = $\\frac{x^2(3x - 2)}{4x^2}$ = $\\frac{(3x - 2)}{4}$ = $-\\frac{1}{2}$"
   ]
  },
  {
   "cell_type": "markdown",
   "metadata": {},
   "source": [
    "### 5. Найти предел:\n",
    "$\\lim_{x \\to 0} \\frac{\\sqrt{1 + x} - 1}{\\sqrt[3]{1 + x} - 1}$ = $\\frac{\\sqrt{1 + x} - 1}{\\sqrt[3]{1 + x} - 1}$ = $\\frac{x(\\sqrt{1 + x} - \\frac{1}{x})}{x(\\sqrt[3]{1 + x} - \\frac{1}{x})}$ = $\\frac{\\sqrt{1 + x} - \\frac{1}{x}}{\\sqrt[3]{1 + x} - \\frac{1}{x}}$ = $\\frac{\\frac{1}{2}}{\\frac{1}{3}}$ = $\\frac{3}{2}$"
   ]
  }
 ],
 "metadata": {
  "kernelspec": {
   "display_name": "Python 3",
   "language": "python",
   "name": "python3"
  },
  "language_info": {
   "codemirror_mode": {
    "name": "ipython",
    "version": 3
   },
   "file_extension": ".py",
   "mimetype": "text/x-python",
   "name": "python",
   "nbconvert_exporter": "python",
   "pygments_lexer": "ipython3",
   "version": "3.8.5"
  }
 },
 "nbformat": 4,
 "nbformat_minor": 2
}
