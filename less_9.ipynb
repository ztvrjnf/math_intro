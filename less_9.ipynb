{
 "cells": [
  {
   "cell_type": "markdown",
   "metadata": {},
   "source": [
    "1. Исследовать на условный экстремум функцию: $U=3−8x+6y$\n",
    "\n",
    "если $x^2+y^2=36$"
   ]
  },
  {
   "cell_type": "markdown",
   "metadata": {},
   "source": [
    "$U = 3 - 8x + 6y + \\lambda(x^2 + y^2 -36)$"
   ]
  },
  {
   "cell_type": "markdown",
   "metadata": {},
   "source": [
    "$\n",
    "\\begin{cases}\n",
    "U'_x = 2x\\lambda - 8 = 0, \\\\\n",
    "U'_y = 2y\\lambda + 6 = 0, \\\\\n",
    "U'_{\\lambda} = x^2 + y^2 - 36 = 0\n",
    "\\end{cases}\n",
    "$"
   ]
  },
  {
   "cell_type": "markdown",
   "metadata": {},
   "source": [
    "$\n",
    "\\begin{cases}\n",
    "    x = \\frac{4}{\\lambda} \\\\\n",
    "    y = -\\frac{3}{\\lambda} \\\\\n",
    "    \\left( \\frac{4}{\\lambda} \\right)^2 + \\left( -\\frac{3}{\\lambda} \\right)^2 = 36\n",
    "\\end{cases} \\Rightarrow\n",
    "\\begin{cases}\n",
    "    x = \\frac{4}{\\lambda} \\\\\n",
    "    y = -\\frac{3}{\\lambda} \\\\\n",
    "    \\lambda^2 = \\frac{25}{36}\n",
    "\\end{cases}\n",
    "$"
   ]
  },
  {
   "cell_type": "markdown",
   "metadata": {},
   "source": [
    "$\n",
    "\\left( \\cfrac{24}{5}, -\\cfrac{18}{5}, \\cfrac{5}{6} \\right) \\land \\left( -\\cfrac{24}{5}, \\cfrac{18}{5}, -\\cfrac{5}{6} \\right)\n",
    "$"
   ]
  },
  {
   "cell_type": "markdown",
   "metadata": {},
   "source": [
    "$\n",
    "U''_{xx} = 2\\lambda \\\\\n",
    "U''_{yy} = 2\\lambda \\\\\n",
    "U''_{\\lambda\\lambda} = 0 \\\\\n",
    "U''_{xy} = U''_{yx} = 0 \\\\\n",
    "U''_{x\\lambda} = U''_{\\lambda x} = 2x \\\\\n",
    "U''_{y\\lambda} = U''_{\\lambda y} = 2y\n",
    "$"
   ]
  },
  {
   "cell_type": "markdown",
   "metadata": {},
   "source": [
    "$\n",
    "\\Delta = \n",
    "\\begin{vmatrix}\n",
    "0 & 2x & 2y \\\\\n",
    "2x & 2\\lambda & 0 \\\\\n",
    "2y & 0 & 2\\lambda\n",
    "\\end{vmatrix} = \n",
    "0 \\cdot\n",
    "\\begin{vmatrix}\n",
    "2\\lambda & 0 \\\\\n",
    "0 & 2\\lambda\n",
    "\\end{vmatrix} -2x \\cdot\n",
    "\\begin{vmatrix}\n",
    "2x & 0 \\\\\n",
    "2y & 2\\lambda\n",
    "\\end{vmatrix} +2y \\cdot\n",
    "\\begin{vmatrix}\n",
    "2x & 2\\lambda \\\\\n",
    "2y & 0\n",
    "\\end{vmatrix} = -8x^2\\lambda -8y^2\\lambda = -8\\lambda\\cdot(x^2 + y^2) = -8\\lambda \\cdot 36 = -288\\lambda\n",
    "$"
   ]
  },
  {
   "cell_type": "markdown",
   "metadata": {},
   "source": [
    "$\n",
    "\\lambda = \\cfrac{5}{6} \\Rightarrow \n",
    "\\Delta < 0 \\Rightarrow \n",
    "\\left( \\cfrac{24}{5}, -\\cfrac{18}{5}, \\cfrac{5}{6} \\right) - т. min \\\\\n",
    "\\\\\n",
    "\\lambda = -\\cfrac{5}{6} \\Rightarrow \n",
    "\\Delta > 0 \\Rightarrow \n",
    "\\left( -\\cfrac{24}{5}, \\cfrac{18}{5}, -\\cfrac{5}{6} \\right) - т. max\n",
    "$"
   ]
  },
  {
   "cell_type": "markdown",
   "metadata": {},
   "source": [
    "2. Исследовать на условный экстремум функцию: $U = 2x^2 +12xy +32y^2 +15$\n",
    "\n",
    "если $x^2 +16y^2 = 64$"
   ]
  },
  {
   "cell_type": "markdown",
   "metadata": {},
   "source": [
    "$U = 2x^2 +12xy +32y^2 +15 +\\lambda \\cdot(x^2 +16y^2 -64)$"
   ]
  },
  {
   "cell_type": "markdown",
   "metadata": {},
   "source": [
    "$\n",
    "\\begin{cases}\n",
    "U'_x = 4x +12y +\\lambda \\cdot 2x \\\\\n",
    "U'_y = 12x +64y +\\lambda \\cdot 32y \\\\\n",
    "U'_{\\lambda} = x^2 +16y^2 -64\n",
    "\\end{cases}\n",
    "$"
   ]
  },
  {
   "cell_type": "markdown",
   "metadata": {},
   "source": [
    "$\n",
    "\\begin{cases}\n",
    "2x(2 +\\lambda) = -12y \\\\\n",
    "32y(2 +\\lambda) = -12x \\\\\n",
    "x^2 +16y^2 = 64\n",
    "\\end{cases}\n",
    "$"
   ]
  },
  {
   "cell_type": "markdown",
   "metadata": {},
   "source": [
    "$\n",
    "\\begin{cases}\n",
    "x = -\\cfrac{6y}{2 +\\lambda} \\\\\n",
    "y = -\\cfrac{3x}{8(2 +\\lambda)} \\\\\n",
    "\\left( -\\cfrac{6y}{2 +\\lambda} \\right)^2 + 16\\left( -\\cfrac{3x}{8(2 +\\lambda)} \\right)^2 = 64\n",
    "\\end{cases} \\Rightarrow\n",
    "\\begin{cases}\n",
    "x = -\\cfrac{6y}{2 +\\lambda} \\\\\n",
    "y = -\\cfrac{3x}{8(2 +\\lambda)} \\\\\n",
    "\\left( -\\cfrac{6y}{2 +\\lambda} \\right)^2 + \\left( -\\cfrac{12x}{8(2 +\\lambda)} \\right)^2 = 64\n",
    "\\end{cases}\\Rightarrow\n",
    "\\begin{cases}\n",
    "x = -\\cfrac{6y}{2 +\\lambda} \\\\\n",
    "y = -\\cfrac{3x}{8(2 +\\lambda)} \\\\\n",
    "\\left( -\\cfrac{6y}{2 +\\lambda} \\right)^2 + \\left( -\\cfrac{3x}{2(2 +\\lambda)} \\right)^2 = 64\n",
    "\\end{cases}\\Rightarrow\n",
    "\\begin{cases}\n",
    "x = -\\cfrac{6y}{2 +\\lambda} \\\\\n",
    "y = -\\cfrac{3x}{8(2 +\\lambda)} \\\\\n",
    "\\cfrac{36y^2}{(2 +\\lambda)^2} + \\cfrac{9x^2}{4(2 +\\lambda)^2} = 64\n",
    "\\end{cases}\\Rightarrow\n",
    "\\begin{cases}\n",
    "x = -\\cfrac{6y}{2 +\\lambda} \\\\\n",
    "y = -\\cfrac{3x}{8(2 +\\lambda)} \\\\\n",
    "\\cfrac{9(x^2 +16y^2)}{4(2 +\\lambda)^2} = 64\n",
    "\\end{cases}\\Rightarrow\n",
    "\\begin{cases}\n",
    "x = -\\cfrac{6y}{2 +\\lambda} \\\\\n",
    "y = -\\cfrac{3x}{8(2 +\\lambda)} \\\\\n",
    "\\cfrac{9 \\cdot 64}{4(2 +\\lambda)^2} = 64\n",
    "\\end{cases}\\Rightarrow\n",
    "\\begin{cases}\n",
    "x = -\\cfrac{6y}{2 +\\lambda} \\\\\n",
    "y = -\\cfrac{3x}{8(2 +\\lambda)} \\\\\n",
    "\\cfrac{9 \\cdot 16}{(2 +\\lambda)^2} = 64\n",
    "\\end{cases}\\Rightarrow\n",
    "\\begin{cases}\n",
    "x = -\\cfrac{6y}{2 +\\lambda} \\\\\n",
    "y = -\\cfrac{3x}{8(2 +\\lambda)} \\\\\n",
    "(2 +\\lambda)^2 = \\cfrac{9 \\cdot 16}{64}\n",
    "\\end{cases}\\Rightarrow\n",
    "\\begin{cases}\n",
    "x = -\\cfrac{6y}{2 +\\lambda} \\\\\n",
    "y = -\\cfrac{3x}{8(2 +\\lambda)} \\\\\n",
    "(2 +\\lambda)^2 = \\cfrac{9}{4}\n",
    "\\end{cases}\\Rightarrow\n",
    "\\begin{cases}\n",
    "x = -\\cfrac{6y}{2 +\\lambda} \\\\\n",
    "y = -\\cfrac{3x}{8(2 +\\lambda)} \\\\\n",
    "\\lambda^2 +4\\lambda +4 = \\cfrac{9}{4}\n",
    "\\end{cases}\\Rightarrow\n",
    "\\begin{cases}\n",
    "x = -\\cfrac{6y}{2 +\\lambda} \\\\\n",
    "y = -\\cfrac{3x}{8(2 +\\lambda)} \\\\\n",
    "\\lambda_1 = -\\cfrac{1}{2};\\ \\lambda_2 = -\\cfrac{7}{2}\n",
    "\\end{cases}\\Rightarrow\n",
    "\\begin{cases}\n",
    "x_1 = -4y;\\ x_2 = 4y \\\\\n",
    "y_1 = -\\cfrac{3x}{14};\\ y_2 = \\cfrac{x}{4} \\\\\n",
    "\\lambda_1 = -\\cfrac{1}{2};\\ \\lambda_2 -\\cfrac{7}{2}\n",
    "\\end{cases}\n",
    "$"
   ]
  },
  {
   "cell_type": "markdown",
   "metadata": {},
   "source": [
    "$\n",
    "\\left( -4y,\\ -\\cfrac{3x}{14},\\ -\\cfrac{1}{2} \\right) \\land \\left( 4y,\\ \\cfrac{x}{4},\\ -\\cfrac{7}{2} \\right)\n",
    "$"
   ]
  },
  {
   "cell_type": "markdown",
   "metadata": {},
   "source": [
    "$\n",
    "U''_{\\lambda\\lambda} = 0 \\\\\n",
    "U''_{xx} = 4 +2\\lambda \\\\\n",
    "U''_{yy} = 64 + 32\\lambda \\\\\n",
    "U''_{x \\lambda} = U''_{\\lambda x} = 2x \\\\\n",
    "U''_{y \\lambda} = U''_{\\lambda y} = 32y \\\\\n",
    "U''_{xy} = U''_{yx} = 12\n",
    "$"
   ]
  },
  {
   "cell_type": "markdown",
   "metadata": {},
   "source": [
    "$\n",
    "\\Delta = \n",
    "\\begin{vmatrix}\n",
    "0 & 2x & 32y \\\\\n",
    "2x & 4+2\\lambda & 12 \\\\\n",
    "32y & 12 & 64+32\\lambda \\\\\n",
    "\\end{vmatrix}\n",
    "\\\n",
    "= 0 \\cdot\n",
    "\\begin{vmatrix}\n",
    "4+2\\lambda & 12 \\\\\n",
    "12 & 64+32\\lambda \\\\\n",
    "\\end{vmatrix}\n",
    "\\\n",
    "-2x \\cdot\n",
    "\\begin{vmatrix}\n",
    "2x & 12 \\\\\n",
    "32y & 64+32\\lambda\n",
    "\\end{vmatrix}\n",
    "\\\n",
    "+32y \\cdot\n",
    "\\begin{vmatrix}\n",
    "2x & 4+2\\lambda \\\\\n",
    "32y & 12\n",
    "\\end{vmatrix} = \\\\\n",
    "-128x^2(2+\\lambda) - 768xy + 768xy - 2048y^2(2+\\lambda) = -128x^2(2+\\lambda) - 2048y^2(2+\\lambda) = -128(2 + \\lambda)(x^2 + 16y^2) = \\\\\n",
    "-128(2 + \\lambda) \\cdot 64 = -8192(2 + \\lambda)\n",
    "$"
   ]
  },
  {
   "cell_type": "markdown",
   "metadata": {},
   "source": [
    "$\n",
    "\\lambda = -\\cfrac{1}{2} \\Rightarrow \n",
    "\\Delta > 0 \\Rightarrow \n",
    "\\left( -4y,\\ -\\cfrac{3x}{14},\\ -\\cfrac{1}{2} \\right) - т. max\n",
    "\\\\\n",
    "\\lambda = -\\cfrac{7}{2} \\Rightarrow \n",
    "\\Delta > 0 \\Rightarrow \n",
    "\\left( 4y,\\ \\cfrac{x}{4},\\ -\\cfrac{7}{2} \\right) - т. max\n",
    "$"
   ]
  },
  {
   "cell_type": "markdown",
   "metadata": {},
   "source": [
    "3. Найти производную функции $U = x^2 + y^2 + z^2$  по направлению вектора  $\\vec{c}(−9,8,−12)$  в точке  $M(8,−12,9)$"
   ]
  },
  {
   "cell_type": "markdown",
   "metadata": {},
   "source": [
    "$U'_x = 2x;\\ U'_y = 2y;\\ U'_z = 2z$<br><br>\n",
    "$grad{U} = (16, -24, 18)$<br><br>\n",
    "$|\\vec{c}| = \\sqrt{81 + 64 + 144} = 17$<br><br>\n",
    "$\\vec{c_0} = \\left( -\\cfrac{9}{17}, \\cfrac{8}{17}, -\\cfrac{12}{17} \\right)$<br><br>\n",
    "$U'_{\\vec{c}} = -\\cfrac{144}{17} -\\cfrac{192}{17} -\\cfrac{216}{17} = -\\cfrac{552}{17}$<br><br>"
   ]
  },
  {
   "cell_type": "markdown",
   "metadata": {},
   "source": [
    "4.  Найти производную функции  $U=e^{x^2+y^2+z^2}$  по направлению вектора  $\\vec{c}(4,−13,−16)$  в точке  $L(−16,4,−13)$"
   ]
  },
  {
   "cell_type": "markdown",
   "metadata": {},
   "source": [
    "$U'_x = e^{2x}$<br><br>\n",
    "$U'_y = e^{2y}$<br><br>\n",
    "$U'_z = e^{2z}$<br><br>\n",
    "$gradU = (e^{-32},\\ e^{8},\\ e^{-26})$<br><br>\n",
    "$|\\vec{c}| = \\sqrt{16 + 169 + 256} = 21$<br><br>\n",
    "$\\vec{c_0} = \\left( \\cfrac{4}{21},\\ -\\cfrac{13}{21},\\ -\\cfrac{16}{21} \\right)$<br><br>\n",
    "$U'_{\\vec{c}} = \\cfrac{4e^{-32} - 13e^{8} - 16e^{-26}}{21} = \\cfrac{1}{4e^{32}} - \\cfrac{13e^{8}}{21} - \\cfrac{1}{16e^{26}}$<br><br>"
   ]
  }
 ],
 "metadata": {
  "kernelspec": {
   "display_name": "Python 3",
   "language": "python",
   "name": "python3"
  },
  "language_info": {
   "codemirror_mode": {
    "name": "ipython",
    "version": 3
   },
   "file_extension": ".py",
   "mimetype": "text/x-python",
   "name": "python",
   "nbconvert_exporter": "python",
   "pygments_lexer": "ipython3",
   "version": "3.8.5"
  }
 },
 "nbformat": 4,
 "nbformat_minor": 2
}
